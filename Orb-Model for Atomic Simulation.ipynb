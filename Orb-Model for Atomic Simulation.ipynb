{
 "cells": [
  {
   "cell_type": "code",
   "execution_count": 12,
   "metadata": {},
   "outputs": [],
   "source": [
    "# Orbital Materials - Pretrained models for atomic simulations\n",
    "# https://github.com/orbital-materials/orb-models/blob/main/README.md"
   ]
  },
  {
   "cell_type": "code",
   "execution_count": 13,
   "metadata": {},
   "outputs": [
    {
     "name": "stdout",
     "output_type": "stream",
     "text": [
      "{'graph_pred': tensor([-7.2206], grad_fn=<AddBackward0>), 'stress_pred': tensor([[-2.5782e+00, -2.5732e+00, -2.5759e+00,  5.4228e-05, -2.1484e-04,\n",
      "         -2.3494e-05]], grad_fn=<AddBackward0>), 'node_pred': tensor([[0.6993, 0.1705, 0.3907],\n",
      "        [0.6916, 0.1563, 0.4355],\n",
      "        [0.5888, 0.1433, 0.4306],\n",
      "        [0.5942, 0.1610, 0.4040]], grad_fn=<AddBackward0>)}\n",
      "\n",
      " [Atoms(symbols='Fe4', pbc=True, cell=[2.4570000171661377, 2.4570000171661377, 2.4570000171661377], tags=..., calculator=SinglePointCalculator(...))]\n"
     ]
    }
   ],
   "source": [
    "# Direct Usage\n",
    "import ase\n",
    "from ase.build import bulk\n",
    "from orb_models.forcefield import pretrained\n",
    "from orb_models.forcefield import atomic_system\n",
    "from orb_models.forcefield.base import batch_graphs\n",
    "\n",
    "orbff = pretrained.orb_v1()\n",
    "atoms = bulk('Fe', 'fcc', a=2.457, cubic=True)\n",
    "graph = atomic_system.ase_atoms_to_atom_graphs(atoms)\n",
    "\n",
    "# Optionally, batch graphs for faster inference\n",
    "# graph = batch_graphs([graph, graph, ...])\n",
    "\n",
    "result = orbff.predict(graph)\n",
    "print(result)\n",
    "\n",
    "# Convert to ASE atoms (this will also unbatch the results)\n",
    "atoms = atomic_system.atom_graphs_to_ase_atoms(\n",
    "    graph,\n",
    "    energy=result[\"graph_pred\"],\n",
    "    forces=result[\"node_pred\"],\n",
    "    stress=result[\"stress_pred\"]\n",
    ")\n",
    "\n",
    "print(\"\\n\", atoms)\n"
   ]
  },
  {
   "cell_type": "code",
   "execution_count": 14,
   "metadata": {},
   "outputs": [
    {
     "name": "stdout",
     "output_type": "stream",
     "text": [
      "None\n",
      "-16.34379768371582\n"
     ]
    }
   ],
   "source": [
    "# Using ASE Calculator\n",
    "import ase\n",
    "from ase.build import bulk\n",
    "from orb_models.forcefield import pretrained\n",
    "from orb_models.forcefield.calculator import ORBCalculator\n",
    "\n",
    "\n",
    "orbff = pretrained.orb_v1() # Or choose another model using ORB_PRETRAINED_MODELS[model_name]()\n",
    "calc = ORBCalculator(orbff, device=\"cpu\")  # or device=\"cuda\"\n",
    "atoms = bulk('Cu', 'fcc', a=3.58, cubic=True)\n",
    "\n",
    "print(atoms.set_calculator(calc))\n",
    "print(atoms.get_potential_energy())"
   ]
  },
  {
   "cell_type": "code",
   "execution_count": 15,
   "metadata": {},
   "outputs": [
    {
     "name": "stdout",
     "output_type": "stream",
     "text": [
      "Rattled Energy: -11.943151473999023\n",
      "      Step     Time          Energy         fmax\n",
      "BFGS:    0 15:54:36      -11.943151       12.1699\n",
      "BFGS:    1 15:54:36      -14.303596        3.9488\n",
      "BFGS:    2 15:54:36      -15.291109        2.8918\n",
      "BFGS:    3 15:54:36      -16.141619        1.2014\n",
      "BFGS:    4 15:54:36      -16.226456        1.2086\n",
      "BFGS:    5 15:54:36      -16.276001        1.0189\n",
      "BFGS:    6 15:54:37      -16.322590        0.5441\n",
      "BFGS:    7 15:54:37      -16.338596        0.2140\n",
      "BFGS:    8 15:54:37      -16.342379        0.1471\n",
      "BFGS:    9 15:54:37      -16.344131        0.1399\n",
      "BFGS:   10 15:54:37      -16.346653        0.0976\n",
      "BFGS:   11 15:54:37      -16.346901        0.0394\n",
      "BFGS:   12 15:54:37      -16.345810        0.0111\n",
      "BFGS:   13 15:54:37      -16.345680        0.0074\n",
      "Optimized Energy: -16.345680236816406\n"
     ]
    }
   ],
   "source": [
    "# Using the calculator with ASE compatible calculator\n",
    "from ase.optimize import BFGS\n",
    "\n",
    "# Rattle the atoms to get them out of the minimum energy configuration\n",
    "atoms.rattle(0.5)\n",
    "print(\"Rattled Energy:\", atoms.get_potential_energy())\n",
    "\n",
    "calc = ORBCalculator(orbff, device=\"cpu\")\n",
    "dyn = BFGS(atoms)\n",
    "dyn.run(fmax=0.01)\n",
    "print(\"Optimized Energy:\", atoms.get_potential_energy())"
   ]
  }
 ],
 "metadata": {
  "kernelspec": {
   "display_name": "MachineLearning",
   "language": "python",
   "name": "python3"
  },
  "language_info": {
   "codemirror_mode": {
    "name": "ipython",
    "version": 3
   },
   "file_extension": ".py",
   "mimetype": "text/x-python",
   "name": "python",
   "nbconvert_exporter": "python",
   "pygments_lexer": "ipython3",
   "version": "3.9.19"
  }
 },
 "nbformat": 4,
 "nbformat_minor": 2
}
